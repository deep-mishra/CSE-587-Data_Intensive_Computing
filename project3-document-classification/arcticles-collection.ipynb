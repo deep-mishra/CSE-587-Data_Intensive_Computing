{
 "cells": [
  {
   "cell_type": "markdown",
   "metadata": {},
   "source": [
    "####  Python script for collection different category of articles from NYTimes\n",
    "\n",
    "#### --------------------------------------------------------------------------------------------------------"
   ]
  },
  {
   "cell_type": "markdown",
   "metadata": {},
   "source": [
    "### Script to collect the articles url"
   ]
  },
  {
   "cell_type": "code",
   "execution_count": 7,
   "metadata": {
    "scrolled": false
   },
   "outputs": [
    {
     "name": "stdout",
     "output_type": "stream",
     "text": [
      "https://www.nytimes.com/2018/03/12/science/toba-supervolcano-supereruption.html\n",
      "https://www.nytimes.com/2018/04/09/science/leeches-conservation-biodiversity.html\n",
      "https://www.nytimes.com/aponline/2018/05/02/science/ap-us-sci-hawking-last-research-paper.html\n",
      "https://www.nytimes.com/2018/05/01/science/humpback-whale-antarctica.html\n",
      "https://www.nytimes.com/aponline/2018/05/02/science/ap-us-sci-hawking-last-research-paper.html\n",
      "https://www.nytimes.com/2018/05/01/science/humpback-whale-antarctica.html\n",
      "https://www.nytimes.com/2018/05/10/science/asteroid-kuiper-belt.html\n",
      "https://www.nytimes.com/2018/03/21/science/stephen-hawking-westminster-abbey.html\n",
      "https://www.nytimes.com/2018/03/27/science/nuclear-bombs-antineutrinos.html\n",
      "https://www.nytimes.com/2018/03/07/science/fabiola-gianotti-physics-cern.html\n",
      "https://www.nytimes.com/2018/03/06/science/tattoos-cells-laser-removal.html\n",
      "https://www.nytimes.com/2018/03/14/science/stephen-hawking-timeline.html\n",
      "https://www.nytimes.com/2018/03/14/science/stephen-hawking-life.html\n",
      "https://www.nytimes.com/2018/03/15/science/steve-canada-aurora-borealis.html\n",
      "https://www.nytimes.com/2018/03/28/science/footprints-oldest-north-america.html\n",
      "https://www.nytimes.com/2018/03/28/science/footprints-oldest-north-america.html\n",
      "https://www.nytimes.com/2018/04/23/science/exploding-ants.html\n",
      "https://www.nytimes.com/aponline/2018/04/30/science/ap-us-sci-smog-plateau.html\n",
      "https://www.nytimes.com/aponline/2018/05/01/science/ap-us-sci-frog-antifreeze.html\n",
      "https://www.nytimes.com/aponline/2018/05/01/science/ap-us-sci-frog-antifreeze.html\n",
      "https://www.nytimes.com/2018/04/10/science/pleasure-art-sex-food-drugs.html\n",
      "https://www.nytimes.com/2018/04/18/science/dogs-mutts-genes.html\n",
      "https://www.nytimes.com/2018/04/06/science/vikings-navigation-sunstones.html\n",
      "https://www.nytimes.com/2018/04/30/science/rose-genome-gene-editing.html\n",
      "https://www.nytimes.com/2018/04/30/science/rose-genome-gene-editing.html\n",
      "https://www.nytimes.com/aponline/2018/05/02/science/ap-us-sci-mars-launch.html\n",
      "https://www.nytimes.com/aponline/2018/05/04/science/ap-us-sci-mars-launch-sidekicks.html\n",
      "https://www.nytimes.com/aponline/2018/05/05/science/ap-us-sci-mars-launch.html\n",
      "https://www.nytimes.com/2018/03/12/science/alligators-crocodiles-differences.html\n",
      "https://www.nytimes.com/2018/04/05/science/drones-infrared-cameras-animals.html\n",
      "https://www.nytimes.com/2018/03/28/science/caribou-migration-drones.html\n",
      "https://www.nytimes.com/2018/04/05/science/drones-infrared-cameras-animals.html\n",
      "https://www.nytimes.com/2018/05/08/science/alan-turing-desalination.html\n",
      "https://www.nytimes.com/2018/03/07/science/lawrence-krauss-arizona-state.html\n",
      "https://www.nytimes.com/2018/03/05/science/hummingbird-sound-insects.html\n",
      "https://www.nytimes.com/2018/03/21/science/robot-fish.html\n",
      "https://www.nytimes.com/2018/03/05/science/hummingbird-sound-insects.html\n",
      "https://www.nytimes.com/2018/05/03/science/earthquakes-istanbul-turkey-gas.html\n",
      "https://www.nytimes.com/2018/04/16/science/friendship-discrimination.html\n",
      "https://www.nytimes.com/2018/04/04/science/baleen-whales-evolution-genome.html\n",
      "https://www.nytimes.com/2018/05/03/science/earthquakes-istanbul-turkey-gas.html\n",
      "https://www.nytimes.com/2018/05/04/science/gorillas-chimpanzees-populations-africas.html\n",
      "https://www.nytimes.com/2018/03/20/science/robert-langlands-abel-prize-mathematics.html\n",
      "https://www.nytimes.com/2018/03/28/science/atacama-mummy-chile.html\n",
      "https://www.nytimes.com/2018/03/28/science/atacama-mummy-chile.html\n",
      "https://www.nytimes.com/2018/04/02/science/marco-zozaya-vaccines-video.html\n",
      "https://www.nytimes.com/2018/03/01/science/cousins-marriage-family-tree.html\n",
      "https://www.nytimes.com/2018/04/19/science/jim-bridenstine-nasa.html\n",
      "https://www.nytimes.com/2018/03/26/science/tess-nasa-exoplanets.html\n",
      "https://www.nytimes.com/2018/05/09/science/ancient-dna-bones-hepatitis.html\n",
      "https://www.nytimes.com/2018/05/10/science/parakeets-bats-invasive-species.html\n",
      "https://www.nytimes.com/2018/03/22/science/ata-mummy-alien-chile.html\n",
      "https://www.nytimes.com/2018/03/16/science/rewilding-carnivores-wolves.html\n",
      "https://www.nytimes.com/2018/04/02/science/mummy-head-fbi-dna.html\n",
      "https://www.nytimes.com/2018/04/02/science/mummy-head-fbi-dna.html\n",
      "https://www.nytimes.com/aponline/2018/05/05/science/ap-us-sci-mars-launch-sidekicks.html\n",
      "https://www.nytimes.com/2018/05/05/science/nasa-mars-insight-launch.html\n",
      "https://www.nytimes.com/aponline/2018/05/07/science/ap-us-sci-science-says-volcanoes-explained.html\n",
      "https://www.nytimes.com/2018/04/18/science/robots-ikea-furniture.html\n",
      "https://www.nytimes.com/aponline/2018/05/07/science/ap-us-sci-science-says-volcanoes-explained.html\n",
      "https://www.nytimes.com/2018/04/20/science/tiny-shrimp-ocean-mixing.html\n",
      "https://www.nytimes.com/2018/05/07/science/elephants-earthquakes-vibrations.html\n",
      "https://www.nytimes.com/2018/05/10/science/frogs-fungus-korea.html\n"
     ]
    }
   ],
   "source": [
    "import json\n",
    "import re\n",
    "import sys\n",
    "import time\n",
    "import requests\n",
    "from lucenequerybuilder import Q\n",
    "\n",
    "count = 1\n",
    "urls = list()\n",
    "regexp = re.compile(r'query')  # regex for urls containg the word query\n",
    "hits = sys.maxsize\n",
    "urls_file = open(\"science_urls.txt\", \"a+\")\n",
    "\n",
    "# api-key\": \"8f6a5f3d8fd0493ca72922edf473c291\n",
    "\n",
    "for i in range(1, 200):\n",
    "    # DATE IS IN YYYYMMDD FORMAT\n",
    "    # setting parameters for Api Call\n",
    "    parameters = {\"api-key\": \"0e9af0d7619a46a2922920fa1886bde3\",\n",
    "                  # \"fl\": \"web_url\",\n",
    "                  \"page\": i,\n",
    "                  \"begin_date\": \"20180301\",\n",
    "                  \"fq\":\"news_desk('Science')\"}\n",
    "    time.sleep(1)  # delaying api calls due to api time restrictions\n",
    "    response = requests.get(\"https://api.nytimes.com/svc/search/v2/articlesearch.json\", params=parameters)\n",
    "    data = response.json() # converting the response to json format\n",
    "    # print(data)\n",
    "\n",
    "    try:\n",
    "        # Getting the number of hits\n",
    "        hits = data['response']['meta']['hits']\n",
    "    except KeyError:\n",
    "        pass\n",
    "\n",
    "    try:\n",
    "        for x in data['response']['docs']:\n",
    "            # removing query urls which do not have article data\n",
    "            if regexp.search(x['web_url']):\n",
    "                print(\"regex\")\n",
    "                continue\n",
    "            \n",
    "            if '/video/' not in x['web_url'] and '/science/' in x['web_url']: #removing unnecessary urls\n",
    "                urls.append(x['web_url']) # adding urls to the list\n",
    "                print(x['web_url'])\n",
    "                urls_file.write(x['web_url'] + \"\\n\") # writing url to the file\n",
    "                count += 1 \n",
    "        if count == 100: break\n",
    "    except KeyError:\n",
    "        print(\"error\")\n",
    "        pass\n",
    "    if 'response' in data.keys():\n",
    "        if data['response']['meta']['offset'] > data['response']['meta']['hits'] or count > 100: break # NO more articles available\n",
    "urls_file.close()"
   ]
  },
  {
   "cell_type": "markdown",
   "metadata": {},
   "source": [
    "### Script to extract the articles from the urls"
   ]
  },
  {
   "cell_type": "code",
   "execution_count": 8,
   "metadata": {
    "collapsed": true
   },
   "outputs": [],
   "source": [
    "import urllib.request as req\n",
    "\n",
    "from bs4 import BeautifulSoup\n",
    "from numpy import unicode\n",
    "\n",
    "urls = open(\"science_urls.txt\").read() # reading url file\n",
    "urls = urls.splitlines() # creating array of url\n",
    "\n",
    "for index, url in enumerate(urls):\n",
    "    content = req.urlopen(url).read()\n",
    "    soup = BeautifulSoup(content, \"html.parser\")\n",
    "    # Opening the article files\n",
    "    if index < 80:\n",
    "        file = open('data\\\\science\\\\ny_science_article_' + str(index + 1) + \".txt\", \"w+\", encoding=\"utf-8\")\n",
    "    else: \n",
    "        file = open('new_data\\\\science\\\\ny_science_article_' + str(index + 1) + \".txt\", \"w+\", encoding=\"utf-8\") # for the evaluation set\n",
    "\n",
    "    # Getting the article body and saving to the file\n",
    "\n",
    "    for a in soup.find_all('p', {'class': 'g-body'}):\n",
    "        file.write(a.text + \"\\n\")\n",
    "\n",
    "    for a in soup.find_all('p', {'class': 'css-1xyeyil e2kc3sl0'}):\n",
    "        file.write(a.text + \"\\n\")\n",
    "\n",
    "    for a in soup.find_all('p', {'class': 'css-imjp5j e2kc3sl0'}):\n",
    "        file.write(a.text + \"\\n\")\n",
    "\n",
    "    for a in soup.find_all('p', {'class': 'story-body-text story-content'}):\n",
    "        file.write(a.text + \"\\n\")\n",
    "\n",
    "\n",
    "file.close()"
   ]
  },
  {
   "cell_type": "code",
   "execution_count": null,
   "metadata": {
    "collapsed": true
   },
   "outputs": [],
   "source": []
  }
 ],
 "metadata": {
  "kernelspec": {
   "display_name": "Python 3",
   "language": "python",
   "name": "python3"
  },
  "language_info": {
   "codemirror_mode": {
    "name": "ipython",
    "version": 3
   },
   "file_extension": ".py",
   "mimetype": "text/x-python",
   "name": "python",
   "nbconvert_exporter": "python",
   "pygments_lexer": "ipython3",
   "version": "3.6.3"
  }
 },
 "nbformat": 4,
 "nbformat_minor": 1
}
