{
 "cells": [
  {
   "cell_type": "markdown",
   "metadata": {},
   "source": [
    "#### R Script for colleting twitter data for given 'search query' and 'date' range. The script will create two files:\n",
    "##### 1. twitter_data*.csv  - containing all the columns of the tweet\n",
    "##### 2. twitter_data*.txt  - containing txt columns of the tweet (only tweets)"
   ]
  },
  {
   "cell_type": "code",
   "execution_count": 5,
   "metadata": {},
   "outputs": [
    {
     "name": "stdout",
     "output_type": "stream",
     "text": [
      "[1] \"Using direct authentication\"\n",
      "\n",
      "New tweets count  10 \n",
      "\n",
      "[1] \"Data downloaded.\"\n"
     ]
    }
   ],
   "source": [
    "library(twitteR)\n",
    "\n",
    "#TWITTER OAUTH..\n",
    "\n",
    "\n",
    "api_key <- \"API_KEY\"\n",
    "api_secret <- \"API_SECRET\"\n",
    "access_token <- \"ACCESS_TOKEN\"\n",
    "access_token_secret <- \"ACCESS_TOKEN_SECRET\"\n",
    "setup_twitter_oauth(api_key, api_secret, access_token, access_token_secret)\n",
    "\n",
    "us_geocode <- \"40.482405,-97.413745,2280mi\"\n",
    "\n",
    "#GET TWEETS..\n",
    "#HAVE USED ALL THE BELOW QUERY TO COLLECT THE DATA\n",
    "tweets <- searchTwitter('#gunviolence', n=10, since=\"2018-03-29\", until = \"2018-04-06\", lang=\"en\", geocode = us_geocode)\n",
    "#tweets <- searchTwitter('#gunsense', n=4000, since=\"2018-03-25\", until = \"2018-03-29\", lang=\"en\", geocode = us_geocode)\n",
    "#tweets <- searchTwitter('#guncontrol', n=4000, since=\"2018-03-27\", until = \"2018-03-29\", lang=\"en\", geocode = us_geocode)\n",
    "#tweets <- searchTwitter('#stopgunviolence', n=4000, since=\"2018-03-25\", until = \"2018-03-29\", lang=\"en\", geocode = us_geocode)\n",
    "#tweets <- searchTwitter('parklandshooting', n=4000, since=\"2018-03-29\", until = \"2018-04-02\", lang=\"en\", geocode = us_geocode)\n",
    "#tweets <- searchTwitter('#ParklandSchoolShooting', n=4000, since=\"2018-03-20\", until = \"2018-03-29\", lang=\"en\", geocode = us_geocode)\n",
    "#tweets <- searchTwitter('#FloridaSchoolShooting', n=4000, since=\"2018-03-20\", until = \"2018-03-29\", lang=\"en\", geocode = us_geocode)\n",
    "#tweets <- searchTwitter('floridashooting', n=4000, since=\"2018-03-20\", until = \"2018-03-29\", lang=\"en\", geocode = us_geocode)\n",
    "#tweets <- searchTwitter('#gunlaws', n=4000, since=\"2018-03-20\", until = \"2018-03-29\", lang=\"en\", geocode = us_geocode)\n",
    "#tweets <- searchTwitter('#noguns', n=4000, since=\"2018-03-20\", until = \"2018-03-29\", lang=\"en\", geocode = us_geocode)\n",
    "#tweets <- searchTwitter('#gunreform', n=4000, since=\"2018-03-25\", until = \"2018-03-26\", lang=\"en\", geocode = us_geocode)\n",
    "\n",
    "\n",
    "#PROCESS ONLY IF TWEETS ARE FOUND\n",
    "if(length(tweets) != 0) {\n",
    "  \n",
    "  #CONVERT TO A DATAFRAME\n",
    "  tweets.df <- twListToDF(tweets)\n",
    "  cat(\"\\nNew tweets count \", nrow(tweets.df), \"\\n\\n\")\n",
    "  \n",
    "  tweets.df <- data.frame(tweets.df, stringsAsFactors = FALSE)\n",
    "  \n",
    "  #GET USER LOCATION\n",
    "  twitter_users <- lookupUsers(users = tweets.df$screenName, includeNA = TRUE)\n",
    "  twitter_users.df <- twListToDF(twitter_users)\n",
    "  twitter_users.df <- data.frame(twitter_users.df, stringsAsFactors = FALSE)\n",
    "  #map user location\n",
    "  tweets.df$location <- twitter_users.df$location[match(tweets.df$screenName, twitter_users.df$screenName)]\n",
    "  \n",
    "  #SAVE DATA TO FILE\n",
    "  write.csv(tweets.df, \"./twitter_data/twt_data_for_week/twitter_data_29_06.csv\", row.names = F )\n",
    "  \n",
    "  #EXTRACT TWEETS FROM DATA AND SAVE IN TEXT FILE\n",
    "  twitter_data <- read.csv(\"./twitter_data/twt_data_for_week/twitter_data_29_06.csv\", stringsAsFactors = FALSE)\n",
    "  tweets_text_data <- gsub(\"\\n\", \" \", twitter_data$text)\n",
    "  tweets_text_data.char <- as.character(tweets_text_data)\n",
    "  Encoding(tweets_text_data.char) <- \"UTF-8\"\n",
    "  write.table(tweets_text_data.char, file = \"./twitter_data/twt_data_for_week/twitter_data_29_06.txt\", row.names = F, col.names = F)\n",
    " \n",
    "  print (\"Data downloaded.\")\n",
    "    \n",
    "} else {\n",
    "  print (\"No new tweets found.\")\n",
    "}\n",
    "\n"
   ]
  }
 ],
 "metadata": {
  "kernelspec": {
   "display_name": "R",
   "language": "R",
   "name": "ir"
  },
  "language_info": {
   "codemirror_mode": "r",
   "file_extension": ".r",
   "mimetype": "text/x-r-source",
   "name": "R",
   "pygments_lexer": "r",
   "version": "3.4.1"
  }
 },
 "nbformat": 4,
 "nbformat_minor": 2
}
