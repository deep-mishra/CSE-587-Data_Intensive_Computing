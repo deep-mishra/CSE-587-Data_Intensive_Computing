{
 "cells": [
  {
   "cell_type": "markdown",
   "metadata": {},
   "source": [
    "#### Script for copying MapReduce word count and co-occurrence file of Twitter and NYTimes to D3 wordcloud folder. While copying the file it converts the text to json object and creates a d3 readable js file"
   ]
  },
  {
   "cell_type": "code",
   "execution_count": 2,
   "metadata": {},
   "outputs": [
    {
     "name": "stdout",
     "output_type": "stream",
     "text": [
      "Copying word count of twitter from /hadoop/twitter/twt_wrdcnt_one_week/part-00000\n",
      "Copied word count of twitter data to /d3_wordcloud/data/part-0000-twt-wc.js in js format\n",
      "----\n",
      "Copying word count of nytime article from /hadoop/ny_article/nyt_wrdcnt_one_week/part-00000\n",
      "Copied word count of nytimes data to /d3_wordcloud/data/part-0000-nyt-wc.js in js format\n",
      "----\n",
      "Copying word count of twitter from /hadoop/twitter/twt_cooccur_one_week/part-00000\n",
      "Copied word count of twitter data to /d3_wordcloud/data/part-0000-twt-co.js in js format\n",
      "----\n",
      "Copying word count of nytime article from /hadoop/ny_article/nyt_cooccur_one_week/part-00000\n",
      "Copied word count of nytimes data to /d3_wordcloud/data/part-0000-nyt-co.js in js format\n"
     ]
    }
   ],
   "source": [
    "#Copy the src_file (word count) to dst_file in js (d3 readable file)\n",
    "def create_js_file(src_file, dst_file, objname):\n",
    "    newLine = \"var \" + objname + \" = [\"\n",
    "    dst_file.write(newLine + \"\\n\")\n",
    "    for line in src_file.readlines():\n",
    "        line = line.strip()\n",
    "        word = line.split(',')\n",
    "        newLine = \"{text:'\" + word[0] + \"', size:\" + word[1] + \"},\"\n",
    "        dst_file.write(newLine + \"\\n\")\n",
    "    dst_file.write(\"];\")\n",
    "    \n",
    "#Copy the src_file (co-occurrent word output) to dst_file in js (d3 readable file)\n",
    "def create_co_js_file(src_file, dst_file, objname):\n",
    "    newLine = \"var \" + objname + \" = [\"\n",
    "    dst_file.write(newLine + \"\\n\")\n",
    "    for line in src_file.readlines():\n",
    "        line = line.strip()\n",
    "        word = line.split(',')\n",
    "        newLine = \"{text:'\" + word[0] + \"-\" + word[1] + \"', size:\" + word[2] + \"},\"\n",
    "        dst_file.write(newLine + \"\\n\")\n",
    "    dst_file.write(\"];\")\n",
    "\n",
    "print (\"Copying word count of twitter from /hadoop/twitter/twt_wrdcnt_one_week/part-00000\")\n",
    "srcfile = open(\"./hadoop/twitter/twt_wrdcnt_one_week/part-00000\", \"r\")\n",
    "newFile = open(\"./d3_wordcloud/data/part-0000-twt-wc.js\", \"w\")\n",
    "create_js_file(srcfile, newFile, \"tweet_words\")\n",
    "srcfile.close()\n",
    "newFile.close()\n",
    "print(\"Copied word count of twitter data to /d3_wordcloud/data/part-0000-twt-wc.js in js format\")\n",
    "\n",
    "print (\"----\")\n",
    "\n",
    "print (\"Copying word count of nytime article from /hadoop/ny_article/nyt_wrdcnt_one_week/part-00000\")\n",
    "srcfile = open(\"./hadoop/ny_article/nyt_wrdcnt_one_week/part-00000\", \"r\")\n",
    "newFile = open(\"./d3_wordcloud/data/part-0000-nyt-wc.js\", \"w\")\n",
    "create_js_file(srcfile, newFile, \"nyt_words\")\n",
    "srcfile.close()\n",
    "newFile.close()\n",
    "print(\"Copied word count of nytimes data to /d3_wordcloud/data/part-0000-nyt-wc.js in js format\")\n",
    "\n",
    "print (\"----\")\n",
    "\n",
    "print (\"Copying word count of twitter from /hadoop/twitter/twt_cooccur_one_week/part-00000\")\n",
    "srcfile = open(\"./hadoop/twitter/twt_cooccur_one_week/part-00000\", \"r\")\n",
    "newFile = open(\"./d3_wordcloud/data/part-0000-twt-co.js\", \"w\")\n",
    "create_co_js_file(srcfile, newFile, \"tweet_co_words\")\n",
    "srcfile.close()\n",
    "newFile.close()\n",
    "print(\"Copied word count of twitter data to /d3_wordcloud/data/part-0000-twt-co.js in js format\")\n",
    "\n",
    "print (\"----\")\n",
    "\n",
    "print (\"Copying word count of nytime article from /hadoop/ny_article/nyt_cooccur_one_week/part-00000\")\n",
    "srcfile = open(\"./hadoop/ny_article/nyt_cooccur_one_week/part-00000\", \"r\")\n",
    "newFile = open(\"./d3_wordcloud/data/part-0000-nyt-co.js\", \"w\")\n",
    "create_co_js_file(srcfile, newFile, \"nyt_co_words\")\n",
    "srcfile.close()\n",
    "newFile.close()\n",
    "print(\"Copied word count of nytimes data to /d3_wordcloud/data/part-0000-nyt-co.js in js format\")\n",
    "\n"
   ]
  }
 ],
 "metadata": {
  "kernelspec": {
   "display_name": "Python 3",
   "language": "python",
   "name": "python3"
  },
  "language_info": {
   "codemirror_mode": {
    "name": "ipython",
    "version": 3
   },
   "file_extension": ".py",
   "mimetype": "text/x-python",
   "name": "python",
   "nbconvert_exporter": "python",
   "pygments_lexer": "ipython3",
   "version": "3.6.3"
  }
 },
 "nbformat": 4,
 "nbformat_minor": 2
}
