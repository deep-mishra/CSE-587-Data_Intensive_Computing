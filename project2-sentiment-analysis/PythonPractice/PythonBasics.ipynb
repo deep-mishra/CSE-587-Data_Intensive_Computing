{
 "cells": [
  {
   "cell_type": "markdown",
   "metadata": {},
   "source": [
    "### Python Basics"
   ]
  },
  {
   "cell_type": "code",
   "execution_count": 208,
   "metadata": {},
   "outputs": [
    {
     "name": "stdout",
     "output_type": "stream",
     "text": [
      "hello world\n"
     ]
    }
   ],
   "source": [
    "# Printing something using print function\n",
    "\n",
    "print (\"hello world\")"
   ]
  },
  {
   "cell_type": "code",
   "execution_count": 26,
   "metadata": {},
   "outputs": [
    {
     "name": "stdout",
     "output_type": "stream",
     "text": [
      "Susan now lives in Washington\n",
      "    and make $105000.0\n",
      "Ellen now lives in Texas\n",
      "    and make $78750.0\n"
     ]
    }
   ],
   "source": [
    "# Python script for describing data structure that has employee\n",
    "\n",
    "SALARY_RAISE_FACTOR = .05\n",
    "STATE_CODE_MAP = {'WA': 'Washington', 'TX': 'Texas'}\n",
    "\n",
    "def update_employee_record(rec):\n",
    "    old_sal = rec['salary']\n",
    "    new_sal = old_sal * (1+SALARY_RAISE_FACTOR)\n",
    "    rec['salary'] = new_sal\n",
    "    state_code = rec['state_code']\n",
    "    rec['state_name'] = STATE_CODE_MAP[state_code]\n",
    "    \n",
    "input_data = [ {'employee_name': 'Susan', 'salary': 100000.0, 'state_code': 'WA'},\n",
    "                {'employee_name': 'Ellen', 'salary': 75000.0, 'state_code': 'TX'},]\n",
    "\n",
    "for rec in input_data:\n",
    "    update_employee_record(rec)\n",
    "    name = rec['employee_name']\n",
    "    salary = rec['salary']\n",
    "    state = rec['state_name']\n",
    "    print (name + ' now lives in ' + state)\n",
    "    print ('    and make $' + str(salary))\n",
    "    "
   ]
  },
  {
   "cell_type": "code",
   "execution_count": 10,
   "metadata": {},
   "outputs": [
    {
     "name": "stdout",
     "output_type": "stream",
     "text": [
      "2\n",
      "5\n",
      "2.0\n",
      "True\n",
      "False\n",
      "True\n",
      "False\n"
     ]
    }
   ],
   "source": [
    "# Atomic datatype\n",
    "\n",
    "my_integer = 2\n",
    "print (my_integer)\n",
    "my_other_inter = 2+3\n",
    "print (my_other_inter)\n",
    "my_flot = 2.0\n",
    "print (my_flot)\n",
    "my_true_bool = True\n",
    "print (my_true_bool)\n",
    "my_false_bool = False\n",
    "print (my_false_bool)\n",
    "this_is_true = (0<100)\n",
    "print (this_is_true)\n",
    "this_is_false = (0>100)\n",
    "print (this_is_false)\n"
   ]
  },
  {
   "cell_type": "code",
   "execution_count": 12,
   "metadata": {},
   "outputs": [
    {
     "name": "stdout",
     "output_type": "stream",
     "text": [
      "hello\n",
      "hello\n",
      "\n",
      "hello's\n"
     ]
    }
   ],
   "source": [
    "# String\n",
    "\n",
    "a_string = \"hello\"\n",
    "print (a_string)\n",
    "same_as_previous = 'hello'\n",
    "print (same_as_previous)\n",
    "an_empty_string = \"\"\n",
    "print (an_empty_string)\n",
    "w_a_single_quote = \"hello's\"\n",
    "print (w_a_single_quote)"
   ]
  },
  {
   "cell_type": "code",
   "execution_count": 13,
   "metadata": {},
   "outputs": [
    {
     "name": "stdout",
     "output_type": "stream",
     "text": [
      "line 1\n",
      "line 2\n"
     ]
    }
   ],
   "source": [
    "# Multiline string\n",
    "\n",
    "multi_line_string = \"\"\"line 1\n",
    "line 2\"\"\"\n",
    "\n",
    "print (multi_line_string)"
   ]
  },
  {
   "cell_type": "code",
   "execution_count": 17,
   "metadata": {},
   "outputs": [
    {
     "name": "stdout",
     "output_type": "stream",
     "text": [
      "A\n",
      "AB\n",
      "BC\n"
     ]
    }
   ],
   "source": [
    "# Substring of a string\n",
    "\n",
    "print (\"ABCD\"[0])\n",
    "print (\"ABCD\"[0:2])\n",
    "print (\"ABCD\"[1:3])\n"
   ]
  },
  {
   "cell_type": "code",
   "execution_count": 19,
   "metadata": {},
   "outputs": [
    {
     "name": "stdout",
     "output_type": "stream",
     "text": [
      "4\n"
     ]
    }
   ],
   "source": [
    "# Comments and Doc Strings\n",
    "\n",
    "# this whole line is a comment\n",
    "a = 4 # and last part of this line is too\n",
    "# here again\n",
    "print (a)\n"
   ]
  },
  {
   "cell_type": "code",
   "execution_count": 20,
   "metadata": {
    "collapsed": true
   },
   "outputs": [],
   "source": [
    "# Doc strings\n",
    "\n",
    "def sqr(x):\n",
    "    \"This function just squares its intput \"\n",
    "    return x*x"
   ]
  },
  {
   "cell_type": "code",
   "execution_count": 22,
   "metadata": {},
   "outputs": [
    {
     "name": "stdout",
     "output_type": "stream",
     "text": [
      "['a ', 'b ', 'c ']\n",
      "{'c ', 'b ', 'a '}\n",
      "('a ', 'b ', 'c ')\n"
     ]
    }
   ],
   "source": [
    "# Complex datatype\n",
    "\n",
    "my_list = [\"a \", \"b \", \"c \"]\n",
    "print (my_list)\n",
    "my_set = set(my_list)\n",
    "print (my_set)\n",
    "my_tuple = tuple(my_list)\n",
    "print (my_tuple)\n",
    "\n"
   ]
  },
  {
   "cell_type": "code",
   "execution_count": 25,
   "metadata": {},
   "outputs": [
    {
     "name": "stdout",
     "output_type": "stream",
     "text": [
      "a \n",
      "['A ', 'b ', 'c ']\n",
      "['A ', 'b ', 'c ', 'd ']\n",
      "['A ', 5.7, 'B ', [1, 2, 3]]\n"
     ]
    }
   ],
   "source": [
    "# List\n",
    "\n",
    "my_list = [\"a \", \"b \", \"c \"]\n",
    "print (my_list[0]) # print a\n",
    "\n",
    "my_list[0] = \"A \" # changes that element of the list\n",
    "print (my_list)\n",
    "my_list.append(\"d \") # adds new element to the end of the list\n",
    "print (my_list)\n",
    "\n",
    "# list elements can be anything\n",
    "mixed_list = [\"A \", 5.7, \"B \", [1,2,3]]\n",
    "print (mixed_list)\n"
   ]
  },
  {
   "cell_type": "code",
   "execution_count": 58,
   "metadata": {},
   "outputs": [
    {
     "name": "stdout",
     "output_type": "stream",
     "text": [
      "original -  [1, 2, 3, 4, 5, 6, 7, 8]\n",
      "square -  [1, 4, 9, 16, 25, 36, 49, 64]\n",
      "square of the evens -  [4, 16, 36, 64]\n",
      "subset of my_list -  ['a', 'b', 'c'] is -  ['b']\n",
      "first two elements of my_list -  ['a', 'b', 'c'] is -  ['a', 'b']\n",
      "last two elements of my_list -  ['a', 'b', 'c'] is -  ['b', 'c']\n",
      "all but last elements of my_list -  ['a', 'b', 'c'] is -  ['c']\n"
     ]
    }
   ],
   "source": [
    "# Special operation on list\n",
    "\n",
    "original_list = [1,2,3,4,5,6,7,8,]\n",
    "squares = [x*x for x in original_list]\n",
    "squares_of_evens = [x*x for x in original_list if x%2 == 0]\n",
    "\n",
    "print (\"original - \", original_list)\n",
    "print (\"square - \", squares)\n",
    "print (\"square of the evens - \", squares_of_evens)\n",
    "\n",
    "\n",
    "my_list = [\"a\", \"b\", \"c\"]\n",
    "subset_of_list = my_list[1:2]\n",
    "first_two_elements = my_list[:2]\n",
    "last_two_elements = my_list[1:]\n",
    "all_but_last_element = my_list[-1:]\n",
    "print (\"subset of my_list - \", my_list, \"is - \", subset_of_list)\n",
    "print (\"first two elements of my_list - \", my_list, \"is - \", first_two_elements)\n",
    "print (\"last two elements of my_list - \", my_list, \"is - \", last_two_elements)\n",
    "print (\"all but last elements of my_list - \", my_list, \"is - \", all_but_last_element)"
   ]
  },
  {
   "cell_type": "code",
   "execution_count": 68,
   "metadata": {},
   "outputs": [
    {
     "name": "stdout",
     "output_type": "stream",
     "text": [
      "['ABC', 'DEF']\n",
      "['ABC', 'DEF']\n",
      "['ABC', '\\tDEF']\n",
      "['', 'C', 'D']\n",
      "A,B,C\n",
      "Slice example -  BDF\n"
     ]
    }
   ],
   "source": [
    "## Substring manipulation\n",
    "\n",
    "print (\"ABC DEF\".split())\n",
    "print (\"ABC \\tDEF\".split())\n",
    "print (\"ABC \\tDEF\".split(' '))\n",
    "print (\"ABCABD\".split(\"AB\"))\n",
    "print (\",\".join([\"A\", \"B\", \"C\"]))\n",
    "\n",
    "start, end, count_by = 1, 7, 2\n",
    "print (\"Slice example - \", \"ABCDEFG\"[start: end: count_by])"
   ]
  },
  {
   "cell_type": "code",
   "execution_count": 74,
   "metadata": {},
   "outputs": [
    {
     "name": "stdout",
     "output_type": "stream",
     "text": [
      "tuple first value -  1\n",
      "######Trying to modified first value of tuple - Expected error ####### \n"
     ]
    },
    {
     "ename": "TypeError",
     "evalue": "'tuple' object does not support item assignment",
     "output_type": "error",
     "traceback": [
      "\u001b[1;31m---------------------------------------------------------------------------\u001b[0m",
      "\u001b[1;31mTypeError\u001b[0m                                 Traceback (most recent call last)",
      "\u001b[1;32m<ipython-input-74-b668e8afae30>\u001b[0m in \u001b[0;36m<module>\u001b[1;34m()\u001b[0m\n\u001b[0;32m      4\u001b[0m \u001b[0mprint\u001b[0m \u001b[1;33m(\u001b[0m\u001b[1;34m\"tuple first value - \"\u001b[0m\u001b[1;33m,\u001b[0m \u001b[0mmy_tuple\u001b[0m\u001b[1;33m[\u001b[0m\u001b[1;36m0\u001b[0m\u001b[1;33m]\u001b[0m\u001b[1;33m)\u001b[0m\u001b[1;33m\u001b[0m\u001b[0m\n\u001b[0;32m      5\u001b[0m \u001b[0mprint\u001b[0m \u001b[1;33m(\u001b[0m\u001b[1;34m\"######Trying to modified first value of tuple - Expected error ####### \"\u001b[0m\u001b[1;33m)\u001b[0m\u001b[1;33m\u001b[0m\u001b[0m\n\u001b[1;32m----> 6\u001b[1;33m \u001b[0mmy_tuple\u001b[0m\u001b[1;33m[\u001b[0m\u001b[1;36m1\u001b[0m\u001b[1;33m]\u001b[0m \u001b[1;33m=\u001b[0m \u001b[1;36m4\u001b[0m\u001b[1;33m\u001b[0m\u001b[0m\n\u001b[0m\u001b[0;32m      7\u001b[0m \u001b[0mprint\u001b[0m \u001b[1;33m(\u001b[0m\u001b[0mmy_tuple\u001b[0m\u001b[1;33m)\u001b[0m\u001b[1;33m\u001b[0m\u001b[0m\n",
      "\u001b[1;31mTypeError\u001b[0m: 'tuple' object does not support item assignment"
     ]
    }
   ],
   "source": [
    "## Tuples example (this can not be modified like list)\n",
    "\n",
    "my_tuple = (1, 2, \"hello world\")\n",
    "print (\"tuple first value - \", my_tuple[0])\n",
    "print (\"######Trying to modified first value of tuple - Expected error ####### \")\n",
    "my_tuple[1] = 4"
   ]
  },
  {
   "cell_type": "code",
   "execution_count": 87,
   "metadata": {},
   "outputs": [
    {
     "name": "stdout",
     "output_type": "stream",
     "text": [
      "Dictionary example:\n",
      "January:  1\n",
      "March:  3\n",
      "overriding the initial value of January\n",
      "January:  Start of the year\n",
      "\n",
      "Dictory using the list\n",
      "list is:  [('one', 1), ('two', 2)]\n",
      "dict is:  {'one': 1, 'two': 2}\n",
      "Back to list from the dict:  dict_items([('one', 1), ('two', 2)])\n"
     ]
    }
   ],
   "source": [
    "## Dictionaries\n",
    "\n",
    "print (\"Dictionary example:\")\n",
    "my_dict = {\"January\": 1, \"February\": 2}\n",
    "print (\"January: \", my_dict[\"January\"])\n",
    "my_dict[\"March\"] = 3\n",
    "print (\"March: \", my_dict[\"March\"])\n",
    "print (\"overriding the initial value of January\")\n",
    "my_dict[\"January\"] = \"Start of the year\"\n",
    "print (\"January: \", my_dict[\"January\"])\n",
    "\n",
    "print ()\n",
    "print (\"Dictory using the list\")\n",
    "pairs = [(\"one\", 1), (\"two\", 2)]\n",
    "print (\"list is: \", pairs)\n",
    "as_dict = dict(pairs)\n",
    "print (\"dict is: \", as_dict)\n",
    "same_as_pairs = as_dict.items()\n",
    "print (\"Back to list from the dict: \", same_as_pairs)"
   ]
  },
  {
   "cell_type": "code",
   "execution_count": 93,
   "metadata": {},
   "outputs": [
    {
     "name": "stdout",
     "output_type": "stream",
     "text": [
      "An empty set s:  set()\n",
      "check if has 5 in it:  False\n",
      "after adding 5 in s:  {5}\n",
      "check if has 5 in it:  True\n",
      "adding another 5 - (it does nothing): None\n"
     ]
    }
   ],
   "source": [
    "## set\n",
    "\n",
    "s = set()\n",
    "print (\"An empty set s: \", s)\n",
    "print (\"check if has 5 in it: \", 5 in s)\n",
    "s.add(5)\n",
    "print (\"after adding 5 in s: \", s)\n",
    "print (\"check if has 5 in it: \", 5 in s)\n",
    "print (\"adding another 5 - (it does nothing):\", s.add(5))"
   ]
  },
  {
   "cell_type": "code",
   "execution_count": 112,
   "metadata": {},
   "outputs": [
    {
     "name": "stdout",
     "output_type": "stream",
     "text": [
      "Calling my_function to find the squr of 5 \n",
      "25\n",
      "\n",
      "Calling function raise which finds the power of given number to the given power. if the second arg not passed it will use 2 for power\n",
      "1. Without passing second argument - power of 2:  4\n",
      "2. 2 power 3:  8\n",
      "\n",
      "Function defination using lambda (function containing one line function)\n",
      "Square of 5 using lambda function:  25\n",
      "\n",
      "1. Defining the 'apply_to_evens' function which takes function as an second argument and passes the even number to that function\n",
      "2. Now calling the 'apply_to_evens' function and passing an lambda function to sencond argument which calculates the square of given number\n",
      "3. squars of the even number calculated suing 'apply_to_evens' function is:  [4, 16]\n"
     ]
    }
   ],
   "source": [
    "## Functions\n",
    "\n",
    "def my_function(x):\n",
    "    y = x+1\n",
    "    x_sqrd = x*x\n",
    "    return x_sqrd\n",
    "\n",
    "print (\"Calling my_function to find the squr of 5 \")\n",
    "print (my_function(5))\n",
    "print ()\n",
    "\n",
    "# function with optional arguments\n",
    "\n",
    "def my_raise(x, n=2):\n",
    "    return pow(x,n)\n",
    "\n",
    "print (\"Calling function raise which finds the power of given number to the given power. if the second arg not passed it will use 2 for power\")\n",
    "two_sqrd = my_raise(2)\n",
    "print (\"1. Without passing second argument - power of 2: \", two_sqrd)\n",
    "two_cube = my_raise(2, n=3)\n",
    "print (\"2. 2 power 3: \", two_cube)\n",
    "print ()\n",
    "\n",
    "\n",
    "# example of lambda function\n",
    "print (\"Function defination using lambda (function containing one line function)\")\n",
    "squr = lambda x : x*x\n",
    "five_sqrd = squr(5)\n",
    "print (\"Square of 5 using lambda function: \", five_sqrd)\n",
    "print ()\n",
    "\n",
    "#example of annonymus function\n",
    "def apply_to_evens(a_list, a_func):\n",
    "    return [a_func(x) for x in a_list if x%2==0]\n",
    "print (\"1. Defining the 'apply_to_evens' function which takes function as an second argument and passes the even number to that function\")\n",
    "my_list = [1,2,3,4,5]\n",
    "print (\"2. Now calling the 'apply_to_evens' function and passing an lambda function to sencond argument which calculates the square of given number\")\n",
    "sqrs_of_evens = apply_to_evens(my_list, lambda x:x*x)\n",
    "print (\"3. squars of the even number calculated suing 'apply_to_evens' function is: \", sqrs_of_evens)"
   ]
  },
  {
   "cell_type": "code",
   "execution_count": 120,
   "metadata": {},
   "outputs": [
    {
     "name": "stdout",
     "output_type": "stream",
     "text": [
      "For loop on my_list:  [1, 2, 3]\n",
      "the number is  1\n",
      "the number is  2\n",
      "the number is  3\n",
      "\n",
      "For loop over my_dict.items: \n",
      "the value for  January  is  Start of the year\n",
      "the value for  February  is  2\n",
      "the value for  March  is  3\n",
      "\n",
      "If examples: \n",
      "i is between 3 and 5\n"
     ]
    }
   ],
   "source": [
    "## For loops and Control Structures\n",
    "\n",
    "my_list = [1,2,3]\n",
    "print (\"For loop on my_list: \", my_list)\n",
    "for x in my_list:\n",
    "    print (\"the number is \", x)\n",
    "print ()\n",
    "\n",
    "print (\"For loop over my_dict.items: \")\n",
    "for key, value in my_dict.items():\n",
    "    print (\"the value for \", key, \" is \", value)\n",
    "print ()\n",
    "\n",
    "print (\"If examples: \")\n",
    "i = 4\n",
    "if i<3:\n",
    "    print (\"i is less than three\")\n",
    "elif i<5: print (\"i is between 3 and 5\")\n",
    "else: print (\"i is greater than 5\")"
   ]
  },
  {
   "cell_type": "code",
   "execution_count": 132,
   "metadata": {},
   "outputs": [
    {
     "name": "stdout",
     "output_type": "stream",
     "text": [
      "Exception handling \n",
      "input_text:  first line\n",
      "             second line\n",
      "Now trying to access 4th line: \n",
      "########################################\n",
      "########################################\n",
      "Error while accessing line in input_text\n",
      "There were < 10 lines\n"
     ]
    }
   ],
   "source": [
    "## Exception handling\n",
    "\n",
    "print (\"Exception handling \")\n",
    "input_text = \"\"\"first line\n",
    "             second line\"\"\"\n",
    "print (\"input_text: \", input_text)\n",
    "print (\"Now trying to access 4th line: \")\n",
    "try:\n",
    "    lines = input_text.split(\"\\n\")\n",
    "    print (\"tenth line was: \", lines[4])\n",
    "except:\n",
    "    print (\"########################################\")\n",
    "    print (\"########################################\")\n",
    "    print (\"Error while accessing line in input_text\")\n",
    "    print (\"There were < 10 lines\")"
   ]
  },
  {
   "cell_type": "code",
   "execution_count": 139,
   "metadata": {},
   "outputs": [
    {
     "name": "stdout",
     "output_type": "stream",
     "text": [
      "Importing sys and displaying the system path\n",
      "['', 'C:\\\\Users\\\\atdee\\\\Anaconda3\\\\python36.zip', 'C:\\\\Users\\\\atdee\\\\Anaconda3\\\\DLLs', 'C:\\\\Users\\\\atdee\\\\Anaconda3\\\\lib', 'C:\\\\Users\\\\atdee\\\\Anaconda3', 'C:\\\\Users\\\\atdee\\\\Anaconda3\\\\lib\\\\site-packages', 'C:\\\\Users\\\\atdee\\\\Anaconda3\\\\lib\\\\site-packages\\\\Babel-2.5.0-py3.6.egg', 'C:\\\\Users\\\\atdee\\\\Anaconda3\\\\lib\\\\site-packages\\\\win32', 'C:\\\\Users\\\\atdee\\\\Anaconda3\\\\lib\\\\site-packages\\\\win32\\\\lib', 'C:\\\\Users\\\\atdee\\\\Anaconda3\\\\lib\\\\site-packages\\\\Pythonwin', 'C:\\\\Users\\\\atdee\\\\Anaconda3\\\\lib\\\\site-packages\\\\IPython\\\\extensions', 'C:\\\\Users\\\\atdee\\\\.ipython']\n",
      "\n",
      "Other import statement using from\n"
     ]
    }
   ],
   "source": [
    "## Libraries import\n",
    "\n",
    "print (\"Importing sys and displaying the system path\")\n",
    "import sys\n",
    "print (sys.path)\n",
    "print ()\n",
    "print (\"Other import statement using from\")\n"
   ]
  },
  {
   "cell_type": "code",
   "execution_count": 145,
   "metadata": {},
   "outputs": [
    {
     "name": "stdout",
     "output_type": "stream",
     "text": [
      "Dog object fido:  <__main__.Dog object at 0x000001E57A648630>\n",
      "Calling function of fido:\n",
      "bark bark!!\n"
     ]
    }
   ],
   "source": [
    "## classes and objects\n",
    "\n",
    "class Dog:\n",
    "    def __init__(self, name):\n",
    "        self.name = name\n",
    "    def respond_to_command(self, command):\n",
    "        if command == self.name: self.speak()\n",
    "    def speak(self):\n",
    "        print (\"bark bark!!\")\n",
    "\n",
    "fido = Dog(\"fido\")\n",
    "print (\"Dog object fido: \", fido)\n",
    "print (\"Calling function of fido:\")\n",
    "fido.respond_to_command(\"spot\") # does nothing\n",
    "fido.respond_to_command(\"fido\")"
   ]
  },
  {
   "cell_type": "code",
   "execution_count": 172,
   "metadata": {},
   "outputs": [
    {
     "name": "stdout",
     "output_type": "stream",
     "text": [
      "Example of hashable type\n",
      "Vaule of hashable int (a):  5\n",
      "Vaule of b (b=a):  5\n",
      "Vaule of b after modifying a to 6:  5\n",
      "\n",
      "Example of unhashable type\n",
      "Vaule of unhashable list (A):  []\n",
      "Vaule of B (B=A):  []\n",
      "Vaule of B after modifying A to have 5:  [5]\n",
      "\n",
      "Example of unhashable type made hashable \n",
      "Vaule of unhashable list (C):  []\n",
      "Vaule of D (D= copy of C):  []\n",
      "Vaule of D after modifying C to have 5:  []\n",
      "\n",
      "Example where elements of unhashable list is unhashable\n",
      "A is:  [{}, {}]\n",
      "B is:  [{}, {}]\n",
      "A after modifying:  [{'name': 'bob'}, {}]\n",
      "B after modifying A:  [{'name': 'bob'}, {}]\n"
     ]
    }
   ],
   "source": [
    "## Hashable and UnHashable types\n",
    "\n",
    "a = 5 # a is a hashable int\n",
    "b = a # b points to a copy of a\n",
    "print (\"Example of hashable type\")\n",
    "print (\"Vaule of hashable int (a): \", a)\n",
    "print (\"Vaule of b (b=a): \", b)\n",
    "a = a+1\n",
    "print (\"Vaule of b after modifying a to 6: \", b)\n",
    "print ()\n",
    "\n",
    "print (\"Example of unhashable type\")\n",
    "A = [] # A is an unhashable list\n",
    "print (\"Vaule of unhashable list (A): \", A)\n",
    "B = A  # B points to the same list as A\n",
    "print (\"Vaule of B (B=A): \", B)\n",
    "A.append(5)\n",
    "print (\"Vaule of B after modifying A to have 5: \", B)\n",
    "print ()\n",
    "\n",
    "print (\"Example of unhashable type made hashable \")\n",
    "# And true copy can be maid like this for unhashable list\n",
    "C = [] # C is an unhashable list\n",
    "print (\"Vaule of unhashable list (C): \", C)\n",
    "D = [x for x in C] # D has copy of list C\n",
    "print (\"Vaule of D (D= copy of C): \", D)\n",
    "C.append(5)\n",
    "print (\"Vaule of D after modifying C to have 5: \", D)\n",
    "print ()\n",
    "\n",
    "# Example where elements of unhashable list is unhashable \n",
    "print (\"Example where elements of unhashable list is unhashable\")\n",
    "A = [{}, {}] # list of dicts\n",
    "print (\"A is: \", A)\n",
    "B = [x for x in A]\n",
    "print (\"B is: \", B)\n",
    "A[0][\"name\"] = \"bob\"\n",
    "print (\"A after modifying: \", A)\n",
    "B[0][\"name\"]\n",
    "print (\"B after modifying A: \", B)\n"
   ]
  },
  {
   "cell_type": "code",
   "execution_count": 2,
   "metadata": {},
   "outputs": [
    {
     "name": "stdout",
     "output_type": "stream",
     "text": [
      "Making data frame from a dictionary that maps column names to their values\n",
      "Data frame df: \n",
      "    age    name\n",
      "0   60     Bob\n",
      "1   25    Alex\n",
      "2   33  Janice\n",
      "\n",
      "Reading a DataFrame from a file \n",
      "Loaded data frame other_df: \n",
      "      name  age\n",
      "0    Deep   30\n",
      "1  piyush   24\n",
      "\n",
      "Making new columns from old ones is really easy\n",
      "Modified data frame df with new columns: \n",
      "    age    name  age_plus_one  age_times_two  age_squared  over_30\n",
      "0   60     Bob            61            120         3600     True\n",
      "1   25    Alex            26             50          625    False\n",
      "2   33  Janice            34             66         1089     True\n",
      "\n",
      "The col has various built in functions \n",
      "Total age  118\n",
      "Median age:  33.0\n",
      "\n",
      "Select several rows of the DataFrame and make a new DataFrame out of them\n",
      "Rows with age less than fifty\n",
      "   age    name  age_plus_one  age_times_two  age_squared  over_30\n",
      "0   60     Bob            61            120         3600     True\n",
      "1   25    Alex            26             50          625    False\n",
      "2   33  Janice            34             66         1089     True\n",
      "\n",
      "Apply a custom function to a column\n",
      "Modified df with squared age: \n",
      "   age    name  age_plus_one  age_times_two  age_squared  over_30\n",
      "0   60     Bob            61            120         3600     True\n",
      "1   25    Alex            26             50          625    False\n",
      "2   33  Janice            34             66         1089     True\n",
      "\n",
      "---------------------------\n",
      "Data frame indexing\n",
      "RangeIndex(start=0, stop=3, step=1)\n",
      "\n",
      "Creaet a DataFrame containing the same data but where name is the index\n",
      "Index(['Bob', 'Alex', 'Janice'], dtype='object', name='name')\n",
      "\n",
      "Get the row for Bob\n",
      "age    60\n",
      "Name: Bob, dtype: int64\n",
      "Bobs age  60\n"
     ]
    },
    {
     "name": "stderr",
     "output_type": "stream",
     "text": [
      "C:\\Users\\atdee\\Anaconda3\\lib\\site-packages\\ipykernel_launcher.py:59: DeprecationWarning: \n",
      ".ix is deprecated. Please use\n",
      ".loc for label based indexing or\n",
      ".iloc for positional indexing\n",
      "\n",
      "See the documentation here:\n",
      "http://pandas.pydata.org/pandas-docs/stable/indexing.html#ix-indexer-is-deprecated\n"
     ]
    }
   ],
   "source": [
    "## Dataframes of panda\n",
    "\n",
    "import pandas as pd\n",
    "print (\"Making data frame from a dictionary that maps column names to their values\")\n",
    "df = pd.DataFrame({\n",
    "    \"name\": [\"Bob\", \"Alex\", \"Janice\"],\n",
    "    \"age\": [60, 25, 33]\n",
    "})\n",
    "print (\"Data frame df: \\n\", df)\n",
    "print ()\n",
    "\n",
    "print (\"Reading a DataFrame from a file \")\n",
    "other_df = pd.read_csv(\"data_files/myfile.csv\")\n",
    "print (\"Loaded data frame other_df: \\n\", other_df)\n",
    "print ()\n",
    "\n",
    "print (\"Making new columns from old ones is really easy\")\n",
    "df[\"age_plus_one\"] = df[\"age\"] + 1\n",
    "df[\"age_times_two\"] = 2 * df[\"age\"]\n",
    "df[\"age_squared\"] = df[\"age\"] * df[\"age\"]\n",
    "df[\"over_30\"] = (df[\"age\"] > 30) # this col is boolean\n",
    "print (\"Modified data frame df with new columns: \\n\", df)\n",
    "print ()\n",
    "\n",
    "print (\"The col has various built in functions \")\n",
    "total_age = df[\"age\"].sum()\n",
    "print (\"Total age \", total_age)\n",
    "median_age = df[\"age\"].quantile(0.5)\n",
    "print (\"Median age: \", median_age)\n",
    "print ()\n",
    "\n",
    "print (\"Select several rows of the DataFrame and make a new DataFrame out of them\")\n",
    "df_below50 = df[df[\"age\"] < 50]\n",
    "print (\"Rows with age less than fifty\")\n",
    "print (df)\n",
    "print ()\n",
    "\n",
    "print (\"Apply a custom function to a column\")\n",
    "df[\"age_squared\"] = df[\"age\"].apply(lambda x:x*x)\n",
    "print (\"Modified df with squared age: \")\n",
    "print (df)\n",
    "print ()\n",
    "\n",
    "print (\"---------------------------\")\n",
    "print (\"Data frame indexing\")\n",
    "df = pd.DataFrame({\n",
    "    \"name\": [\"Bob\", \"Alex\", \"Janice\"],\n",
    "    \"age\": [60, 25, 33]\n",
    "})\n",
    "print (df.index)\n",
    "print ()\n",
    "\n",
    "print (\"Creaet a DataFrame containing the same data but where name is the index\")\n",
    "df_w_name_as_ind = df.set_index(\"name\")\n",
    "print (df_w_name_as_ind.index) # print their names name\n",
    "print ()\n",
    "\n",
    "print (\"Get the row for Bob\")\n",
    "bobs_row = df_w_name_as_ind.ix[\"Bob\"]\n",
    "print (bobs_row)\n",
    "print (\"Bobs age \", bobs_row[\"age\"])\n"
   ]
  },
  {
   "cell_type": "code",
   "execution_count": 191,
   "metadata": {
    "scrolled": true
   },
   "outputs": [
    {
     "name": "stdout",
     "output_type": "stream",
     "text": [
      "Example of Series structure of panda\n",
      "Make series from the given list\n",
      "0    1\n",
      "1    2\n",
      "2    3\n",
      "dtype: int64\n",
      "\n",
      "Add number to each element\n",
      "0    3\n",
      "1    4\n",
      "2    5\n",
      "dtype: int64\n",
      "\n",
      "Access the index directly\n",
      "RangeIndex(start=0, stop=3, step=1)\n",
      "\n",
      "Adding two series - adds corresponding element of series\n",
      "0    5\n",
      "1    7\n",
      "2    8\n",
      "dtype: int64\n",
      "\n",
      "Checking the type of Dataframe (it should be of the same series type)\n",
      "<class 'pandas.core.series.Series'>\n"
     ]
    }
   ],
   "source": [
    "## Series of panda\n",
    "\n",
    "print (\"Example of Series structure of panda\")\n",
    "import pandas as pd\n",
    "\n",
    "print (\"Make series from the given list\")\n",
    "s = pd.Series([1,2,3])\n",
    "print (s)\n",
    "\n",
    "print()\n",
    "\n",
    "print (\"Add number to each element\")\n",
    "print (s+2)\n",
    "\n",
    "print ()\n",
    "\n",
    "print (\"Access the index directly\")\n",
    "print (s.index)\n",
    "\n",
    "\n",
    "print ()\n",
    "\n",
    "print (\"Adding two series - adds corresponding element of series\")\n",
    "s2 = s + pd.Series([4,5,5])\n",
    "print (s2)\n",
    "\n",
    "print ()\n",
    "\n",
    "print (\"Checking the type of Dataframe (it should be of the same series type)\")\n",
    "bobs_row = df_w_name_as_ind.ix[\"Bob\"]\n",
    "print (type(bobs_row))\n"
   ]
  },
  {
   "cell_type": "code",
   "execution_count": 200,
   "metadata": {},
   "outputs": [
    {
     "name": "stdout",
     "output_type": "stream",
     "text": [
      "Create a new data frame \n",
      "data frame df_w_age\n",
      "   age    name\n",
      "0   60     Tom\n",
      "1   25  Tyrell\n",
      "2   33  Claire\n",
      "data frame df_w_height\n",
      "   height    name\n",
      "0     6.2     Tom\n",
      "1     4.0  Tyrell\n",
      "2     5.5  Claire\n",
      "\n",
      "Joined dataframe by name\n",
      "        age  height\n",
      "name               \n",
      "Tom      60     6.2\n",
      "Tyrell   25     4.0\n",
      "Claire   33     5.5\n",
      "\n",
      "reset index\n",
      "     name  age  height\n",
      "0     Tom   60     6.2\n",
      "1  Tyrell   25     4.0\n",
      "2  Claire   33     5.5\n",
      "\n",
      "---------------------------------------------\n",
      "Group the rows and agg each row of dataframe\n",
      "Dataframe\n",
      "   age gender  height    name\n",
      "0   60      M     6.2     Tom\n",
      "1   25      M     4.0  Tyrell\n",
      "2   33      F     5.5  Claire\n",
      "\n",
      "Using built in aggregates\n",
      "         age  height\n",
      "gender              \n",
      "F       33.0     5.5\n",
      "M       42.5     5.1\n",
      "\n",
      "Calculating median \n",
      "0.5      age  height\n",
      "gender              \n",
      "F       33.0     5.5\n",
      "M       42.5     5.1\n",
      "\n",
      "Using custome aggregate function\n",
      "        mean_height    name  oldest\n",
      "gender                             \n",
      "F               5.5  Claire      33\n",
      "M               5.1  Tyrell      60\n"
     ]
    }
   ],
   "source": [
    "## joining and grouping\n",
    "\n",
    "print (\"Create a new data frame \")\n",
    "df_w_age = pd.DataFrame({\n",
    "    \"name\": [\"Tom\", \"Tyrell\", \"Claire\"],\n",
    "    \"age\": [60, 25, 33]\n",
    "})\n",
    "print(\"data frame df_w_age\")\n",
    "print (df_w_age)\n",
    "df_w_height = pd.DataFrame({\n",
    "    \"name\": [\"Tom\", \"Tyrell\", \"Claire\"],\n",
    "    \"height\": [6.2, 4.0, 5.5]\n",
    "})\n",
    "print (\"data frame df_w_height\")\n",
    "print (df_w_height)\n",
    "print ()\n",
    "\n",
    "joined = df_w_age.set_index(\"name\").join(df_w_height.set_index(\"name\"))\n",
    "print (\"Joined dataframe by name\")\n",
    "print (joined)\n",
    "print ()\n",
    "\n",
    "print (\"reset index\")\n",
    "print (joined.reset_index())\n",
    "print ()\n",
    "print (\"---------------------------------------------\")\n",
    "print (\"Group the rows and agg each row of dataframe\")\n",
    "df_w_age = pd.DataFrame({\n",
    "    \"name\": [\"Tom\", \"Tyrell\", \"Claire\"],\n",
    "    \"age\": [60, 25, 33],\n",
    "    \"height\": [6.2, 4.0, 5.5],\n",
    "    \"gender\": [\"M\", \"M\", \"F\"]\n",
    "})\n",
    "print (\"Dataframe\")\n",
    "print (df_w_age)\n",
    "print ()\n",
    "\n",
    "print (\"Using built in aggregates\")\n",
    "print (df_w_age.groupby(\"gender\").mean())\n",
    "print ()\n",
    "print (\"Calculating median \")\n",
    "print (df_w_age.groupby(\"gender\").quantile(0.5))\n",
    "print ()\n",
    "print (\"Using custome aggregate function\")\n",
    "def myaggs(ddf):\n",
    "    return pd.Series({\n",
    "        \"name\": max(ddf[\"name\"]),\n",
    "        \"oldest\": max(ddf[\"age\"]),\n",
    "        \"mean_height\": ddf[\"height\"].mean()\n",
    "    })\n",
    "print (df_w_age.groupby(\"gender\").apply(myaggs))\n"
   ]
  }
 ],
 "metadata": {
  "kernelspec": {
   "display_name": "Python 3",
   "language": "python",
   "name": "python3"
  },
  "language_info": {
   "codemirror_mode": {
    "name": "ipython",
    "version": 3
   },
   "file_extension": ".py",
   "mimetype": "text/x-python",
   "name": "python",
   "nbconvert_exporter": "python",
   "pygments_lexer": "ipython3",
   "version": "3.6.3"
  }
 },
 "nbformat": 4,
 "nbformat_minor": 2
}
