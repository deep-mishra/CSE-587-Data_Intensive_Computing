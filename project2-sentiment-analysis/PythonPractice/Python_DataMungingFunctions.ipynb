{
 "cells": [
  {
   "cell_type": "markdown",
   "metadata": {},
   "source": [
    "### Python Data Mungin Functions\n",
    "### ----------------------------------------"
   ]
  },
  {
   "cell_type": "markdown",
   "metadata": {},
   "source": [
    "### Formatting function"
   ]
  },
  {
   "cell_type": "code",
   "execution_count": 5,
   "metadata": {},
   "outputs": [
    {
     "data": {
      "text/plain": [
       "'ABC'"
      ]
     },
     "execution_count": 5,
     "metadata": {},
     "output_type": "execute_result"
    }
   ],
   "source": [
    "# Remove whitespaces from left and right \n",
    "\"\\tABC\\t\".strip()"
   ]
  },
  {
   "cell_type": "code",
   "execution_count": 6,
   "metadata": {},
   "outputs": [
    {
     "data": {
      "text/plain": [
       "'ABC\\t'"
      ]
     },
     "execution_count": 6,
     "metadata": {},
     "output_type": "execute_result"
    }
   ],
   "source": [
    "#Removing whitespace from the left\n",
    "' ABC\\t'.lstrip()"
   ]
  },
  {
   "cell_type": "code",
   "execution_count": 8,
   "metadata": {},
   "outputs": [
    {
     "data": {
      "text/plain": [
       "' ABC'"
      ]
     },
     "execution_count": 8,
     "metadata": {},
     "output_type": "execute_result"
    }
   ],
   "source": [
    "#Removing whitespace from the right\n",
    "\" ABC\\t\".rstrip()"
   ]
  },
  {
   "cell_type": "code",
   "execution_count": 9,
   "metadata": {},
   "outputs": [
    {
     "data": {
      "text/plain": [
       "'AB'"
      ]
     },
     "execution_count": 9,
     "metadata": {},
     "output_type": "execute_result"
    }
   ],
   "source": [
    "#Removing character 'C' from the start and end of string\n",
    "\"ABC\".strip(\"C\")"
   ]
  },
  {
   "cell_type": "code",
   "execution_count": 10,
   "metadata": {},
   "outputs": [
    {
     "name": "stdout",
     "output_type": "stream",
     "text": [
      "abcÿ\n"
     ]
    },
    {
     "data": {
      "text/plain": [
       "'abc'"
      ]
     },
     "execution_count": 10,
     "metadata": {},
     "output_type": "execute_result"
    }
   ],
   "source": [
    "s = \"abc\\xFF\"\n",
    "print (s) # String with ascii characters as well as non-ascii characters\n",
    "s.encode().decode(\"ascii\", \"ignore\") # Getting the ascii characters and ignoring non ascii characters"
   ]
  },
  {
   "cell_type": "markdown",
   "metadata": {},
   "source": [
    "### Date Util Functions"
   ]
  },
  {
   "cell_type": "code",
   "execution_count": 22,
   "metadata": {},
   "outputs": [
    {
     "data": {
      "text/plain": [
       "datetime.datetime(1985, 8, 13, 0, 0)"
      ]
     },
     "execution_count": 22,
     "metadata": {},
     "output_type": "execute_result"
    }
   ],
   "source": [
    "import dateutil.parser as p\n",
    "p.parse(\"August 13, 1985\") #Parsing string to date and time. 0, 0 is the default when no time is specified"
   ]
  },
  {
   "cell_type": "code",
   "execution_count": 23,
   "metadata": {},
   "outputs": [
    {
     "data": {
      "text/plain": [
       "datetime.datetime(2013, 8, 13, 0, 0)"
      ]
     },
     "execution_count": 23,
     "metadata": {},
     "output_type": "execute_result"
    }
   ],
   "source": [
    "p.parse(\"2013-8-13\") # Parsing differently formatted data string"
   ]
  },
  {
   "cell_type": "code",
   "execution_count": 24,
   "metadata": {},
   "outputs": [
    {
     "data": {
      "text/plain": [
       "datetime.datetime(2013, 8, 13, 4, 15)"
      ]
     },
     "execution_count": 24,
     "metadata": {},
     "output_type": "execute_result"
    }
   ],
   "source": [
    "p.parse(\"2013-8-13 4:15am\") # Parsing string containing date and time"
   ]
  },
  {
   "cell_type": "markdown",
   "metadata": {
    "collapsed": true
   },
   "source": [
    "### Formatting Scripts "
   ]
  },
  {
   "cell_type": "code",
   "execution_count": 1,
   "metadata": {},
   "outputs": [
    {
     "name": "stdout",
     "output_type": "stream",
     "text": [
      "                Name  Age   Birthdate First Name Last Name\n",
      "0  Ms. Janice Joplin   65  1943-01-19     Janice    Joplin\n",
      "1         Bob Dylan    74  1941-03-24        Bob     Dylan\n",
      "2     Billy Ray Joel   66  1941-02-09      Billy      Joel\n"
     ]
    }
   ],
   "source": [
    "def get_first_last_name(s):\n",
    "    INVALID_NAME_PARTS = [\"mr\", \"ms\", \"mrs\", \"dr\", \"jr\", \"sir\"] # list of invalid name parts\n",
    "    parts = s.lower().replace(\".\", \"\").strip().split() #formatting the name\n",
    "    parts = [p for p in parts\n",
    "             if p not in INVALID_NAME_PARTS] # getting parts of names which are not in the INVALID_NAMES_PART list\n",
    "    if len(parts) == 0: # No parts found\n",
    "        raise ValueError(\"Name %s is formatted wrong\" % s) # Generate error\n",
    "    first, last = parts[0], parts[-1] # Getting first name (index 0) and last name (-1 indicates the first index starting from last) \n",
    "    first = first[0].upper() + first[1:] # Converting to sentence case\n",
    "    last = last[0].upper() + last[1:] \n",
    "    return first, last\n",
    "\n",
    "\n",
    "def format_age(s):\n",
    "    chars = list(s)  # list of characters\n",
    "    digit_chars = [c for c in chars if c.isdigit()] # getting the characters which are digit\n",
    "    return int(\"\".join(digit_chars)) # merging these charcters\n",
    "\n",
    "\n",
    "def format_date(s):\n",
    "    MONTH_MAP = {\"jan\": \"01\", \"feb\": \"02\", \"may\": \"03\"}\n",
    "    s = s.strip().lower().replace(\",\", \"\") # formatting the string\n",
    "    m, d, y = s.split() # month, day and year\n",
    "    if len(y) == 2: y = \"19\" + y\n",
    "    if len(d) == 1: d = \"0\" + d\n",
    "    return y + \"-\" + MONTH_MAP[m[:3]] + \"-\" + d # return the date in proper format\n",
    "    \n",
    "import pandas as pd\n",
    "df = pd.read_csv(\"data_files/file.csv\", sep=\"|\") # reading the file\n",
    "df[\"First Name\"] = df[\"Name\"].apply(  # creating the First Name column of the data frame\n",
    "    lambda s: get_first_last_name(s)[0])\n",
    "df[\"Last Name\"] = df[\"Name\"].apply( # creating the Last Name column of the data frame\n",
    "    lambda s: get_first_last_name(s)[1])\n",
    "df[\"Age\"] = df[\"Age\"].apply(format_age) # creating age column in the data frame\n",
    "df[\"Birthdate\"] = df[\"Birthdate\"].apply( # creating the birthdate column in the data frame\n",
    "    format_date).astype(pd.datetime)\n",
    "print(df) # print the data frame"
   ]
  },
  {
   "cell_type": "markdown",
   "metadata": {
    "collapsed": true
   },
   "source": [
    "### Regular Expressions"
   ]
  },
  {
   "cell_type": "code",
   "execution_count": 3,
   "metadata": {},
   "outputs": [
    {
     "data": {
      "text/plain": [
       "35"
      ]
     },
     "execution_count": 3,
     "metadata": {},
     "output_type": "execute_result"
    }
   ],
   "source": [
    "import re\n",
    "# Pattern for the Street name as House number Street Name(without space) and then Ave, Avenue, St. etc\n",
    "street_pattern = r\"^[0-9]*\\s[A-Z][a-z]*\"+r\"\\s\"+r\"(?:Street|St|Rd|Road|Ave|Avenue|Blvd|Way|Wy)\\.?\"\n",
    "\n",
    "# Pattern for City name as City name, State Name(Without space), followed by 5 digit pin code\n",
    "city_pattern = r\"[A-Z][a-z]*,\\s[A-Z]{2},[0-9]{5}\"\n",
    "\n",
    "# Pattern which matches street followed by new line followed by city \n",
    "address_pattern = street_pattern + r\"\\n\" + city_pattern\n",
    "# Compile the string into a regular expression object\n",
    "\n",
    "address_re = re.compile(address_pattern)\n",
    "text = open(\"data_files/some_file.txt\", \"r\").read()\n",
    "matches = re.findall(address_re, text)\n",
    "open(\"data_files/addresses_w_space_between.txt\",\"w\").write(\"\\n\\n\".join(matches))"
   ]
  }
 ],
 "metadata": {
  "kernelspec": {
   "display_name": "Python 3",
   "language": "python",
   "name": "python3"
  },
  "language_info": {
   "codemirror_mode": {
    "name": "ipython",
    "version": 3
   },
   "file_extension": ".py",
   "mimetype": "text/x-python",
   "name": "python",
   "nbconvert_exporter": "python",
   "pygments_lexer": "ipython3",
   "version": "3.6.3"
  }
 },
 "nbformat": 4,
 "nbformat_minor": 2
}
